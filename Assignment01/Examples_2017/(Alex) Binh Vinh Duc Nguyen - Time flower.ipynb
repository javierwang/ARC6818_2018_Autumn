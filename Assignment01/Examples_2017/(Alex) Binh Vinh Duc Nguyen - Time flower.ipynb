{
 "cells": [
  {
   "cell_type": "markdown",
   "metadata": {},
   "source": [
    "# TIME FLOWER"
   ]
  },
  {
   "cell_type": "markdown",
   "metadata": {},
   "source": [
    "# In this function, I created a time-flower graphic:\n",
    "    # A number of turtles will be placed on a circle in the centre of the scene\n",
    "    # They will rotate and drawing lines to create a flower shape that show the development of itself through every seconds\n",
    "    # After every minute, a new set of turtles will be created, with different colors and higher quantity\n",
    "    # As time passing by, many sets of turtles will leave stamps on the screen, making the shape grow and bloom\n",
    "    # After one hour, the screen will be cleaned and the process will star again\n"
   ]
  },
  {
   "cell_type": "markdown",
   "metadata": {},
   "source": [
    "![Development through 3 minutes](https://raw.githubusercontent.com/mmeagher/ARC6818-2017/master/assignment3/Assignment%203/images/Alex%201.jpg)"
   ]
  },
  {
   "cell_type": "code",
   "execution_count": null,
   "metadata": {
    "collapsed": true
   },
   "outputs": [],
   "source": [
    "import turtle\n",
    "import time\n",
    "import math\n",
    "import random"
   ]
  },
  {
   "cell_type": "code",
   "execution_count": null,
   "metadata": {
    "collapsed": true
   },
   "outputs": [],
   "source": [
    "# Set a number of turtles on a circle to create the center of the flower\n",
    "\n",
    "def Setturtles():\n",
    "    \n",
    "    t.clear() # Clear the previous turtle list to create a new list with different quantity of items\n",
    "    ratio = 0.1 # Set the movement ratio to 0.1 everytime creating a new set of turtles\n",
    "    c2 = c1 + 1\n",
    "    \n",
    "    for i in range (tnum):\n",
    "        \n",
    "        t.append(turtle.Turtle())\n",
    "        \n",
    "        t[i].shape(\"square\")\n",
    "        t[i].shapesize(0.5,0.5)\n",
    "        t[i].penup()\n",
    "        \n",
    "        if i%2 == 0:\n",
    "            t[i].color(colors[c1])\n",
    "        else:\n",
    "            t[i].color(colors[c2])\n",
    "            \n",
    "        t[i].setheading(360/tnum*i)\n",
    "        t[i].forward(50+xtime*10) # To make sure the new turtle set don't overlap with previous sets\n",
    "        t[i].stamp()\n",
    "        t[i].pendown()"
   ]
  },
  {
   "cell_type": "markdown",
   "metadata": {},
   "source": [
    "![Development through 15 minutes](https://raw.githubusercontent.com/mmeagher/ARC6818-2017/master/assignment3/Assignment%203/images/Alex%202.jpg)"
   ]
  },
  {
   "cell_type": "code",
   "execution_count": null,
   "metadata": {
    "collapsed": true
   },
   "outputs": [],
   "source": [
    "# Get the angle between selected turtle and zero point\n",
    "\n",
    "def Getangle(t):\n",
    "    xVector = t.pos()[0]\n",
    "    yVector = t.pos()[1]\n",
    "    return math.degrees(math.atan2(yVector,xVector))"
   ]
  },
  {
   "cell_type": "code",
   "execution_count": null,
   "metadata": {
    "collapsed": true
   },
   "outputs": [],
   "source": [
    "# Rotate the full circle of turtles with the given ratio\n",
    "# Every [i] turtle will move to the point at the [ratio] position of the line created by itself and the next [i+1] turtle\n",
    "\n",
    "def Rotate(ratio):\n",
    "    \n",
    "    # Get the coordinates of turtle zero\n",
    "    x0 = t[0].pos()[0]\n",
    "    y0 = t[0].pos()[1]\n",
    "    \n",
    "    for i in range (tnum-1):\n",
    "        x = (1 - ratio)*t[i].pos()[0] + ratio*t[i+1].pos()[0]\n",
    "        y = (1 - ratio)*t[i].pos()[1] + ratio*t[i+1].pos()[1]\n",
    "        t[i].goto(x,y) \n",
    "        \n",
    "    t[tnum-1].goto(((1 - ratio)*t[tnum-1].pos()[0] + ratio*x0),((1 - ratio)*t[tnum-1].pos()[1] + ratio*y0))\n",
    "    \n",
    "    # If the ratio equal 1, all turtles will go back to their initial postion, to limit the size of the flower\n",
    "    \n",
    "    if round(ratio,1) == 0.9:\n",
    "        dis = t[0].distance(0,0)\n",
    "        for i in range (tnum):\n",
    "            t[i].setheading(Getangle(t[i]))\n",
    "            t[i].backward(dis-(50+xtime*10))\n",
    "    else:\n",
    "        for i in range (tnum):\n",
    "            t[i].setheading(Getangle(t[i]))\n",
    "            t[i].forward(30*ratio)"
   ]
  },
  {
   "cell_type": "code",
   "execution_count": null,
   "metadata": {
    "collapsed": true
   },
   "outputs": [],
   "source": [
    "# Create lines developed from the turtle set, to make the shape of the flower\n",
    "\n",
    "def Explode():\n",
    "    d1 = random.randrange(100,150)\n",
    "    d2 = random.randrange(200,300)\n",
    "    \n",
    "    for i in range (0,tnum,2):\n",
    "        t[i].forward(d1)\n",
    "        t[i].stamp()\n",
    "        t[i].backward(d1)\n",
    "        \n",
    "    for i in range (1,tnum,2):\n",
    "        t[i].forward(d2)\n",
    "        t[i].stamp()\n",
    "        t[i].backward(d2)"
   ]
  },
  {
   "cell_type": "markdown",
   "metadata": {},
   "source": [
    "![Development through 15 minutes](https://raw.githubusercontent.com/mmeagher/ARC6818-2017/master/assignment3/Assignment%203/images/Alex%203.jpg)"
   ]
  },
  {
   "cell_type": "code",
   "execution_count": null,
   "metadata": {
    "scrolled": false
   },
   "outputs": [],
   "source": [
    "# Main control\n",
    "\n",
    "t = []\n",
    "ratio = 0.1\n",
    "tnum = 30\n",
    "xtime = 1\n",
    "c1 = 0\n",
    "colors = [\"rosybrown\",\"silver\",\"cadetblue\",\"burlywood\",\"lightsteelblue\",\"palevioletred\",\"sienna\",\"darkseagreen\"]\n",
    "\n",
    "global ratio\n",
    "global tnum\n",
    "global t\n",
    "global xtime\n",
    "global c1\n",
    "\n",
    "start = time.time()\n",
    "\n",
    "# Write the time on turtle graphic scene\n",
    "writet = turtle.Turtle()\n",
    "writet.penup()\n",
    "writet.hideturtle()\n",
    "writet.goto(0,360)\n",
    "writet.write(\"TIMES: 0 MINUTES\", move=False, align=\"center\", font=(\"Arial\", 20, \"normal\"))\n",
    "\n",
    "Setturtles()\n",
    "\n",
    "while True:\n",
    "    \n",
    "    seconds = time.time() - start\n",
    "    Rotate(ratio)\n",
    "    Explode()\n",
    "    \n",
    "    # Limit the ratio value from 0.1 to 1, and increase it everytime the loop come back to develop the flower\n",
    "    if ratio <1:\n",
    "        ratio = ratio + 0.1\n",
    "    if round(ratio,1) == 1.0:\n",
    "        ratio = 0.1\n",
    "        \n",
    "    # Creating a new turtle set with increasing turtle number every minute        \n",
    "    if round(seconds) > (60*xtime):\n",
    "        \n",
    "        # Write the new time\n",
    "        writet.clear()\n",
    "        writet.write(\"TIME: \" + str(xtime) + \" MINUTES\", move=False, align=\"center\", font=(\"Arial\", 20, \"normal\"))\n",
    "        \n",
    "        for i in range (tnum):\n",
    "            t[i].hideturtle()\n",
    "            \n",
    "        xtime = xtime + 1\n",
    "        tnum = tnum + 2\n",
    "        \n",
    "        # Set the new color\n",
    "        if c1 == 6:\n",
    "            c1 = 0\n",
    "        else:\n",
    "            c1 = c1 + 2\n",
    "            \n",
    "        Setturtles()\n",
    "        \n",
    "    # Reset and clear the screen every hour\n",
    "    if round(seconds) > (60*60):\n",
    "        \n",
    "        writet.clear()\n",
    "        writet.write(\"TIMES: 0 MINUTES\", move=False, align=\"center\", font=(\"Arial\", 20, \"normal\"))\n",
    "        \n",
    "        for i in range (tnum):\n",
    "            t[i].reset()\n",
    "            \n",
    "        ratio = 0.1\n",
    "        tnum = 30\n",
    "        xtime = 1\n",
    "        c1 = 0\n",
    "        \n",
    "        Setturtles()\n",
    "        "
   ]
  },
  {
   "cell_type": "markdown",
   "metadata": {
    "collapsed": true
   },
   "source": [
    "![Development through 15 minutes](https://raw.githubusercontent.com/mmeagher/ARC6818-2017/master/assignment3/Assignment%203/images/Alex%204.jpg)"
   ]
  },
  {
   "cell_type": "code",
   "execution_count": null,
   "metadata": {
    "collapsed": true
   },
   "outputs": [],
   "source": []
  },
  {
   "cell_type": "code",
   "execution_count": null,
   "metadata": {
    "collapsed": true
   },
   "outputs": [],
   "source": []
  }
 ],
 "metadata": {
  "kernelspec": {
   "display_name": "Python 3",
   "language": "python",
   "name": "python3"
  },
  "language_info": {
   "codemirror_mode": {
    "name": "ipython",
    "version": 3
   },
   "file_extension": ".py",
   "mimetype": "text/x-python",
   "name": "python",
   "nbconvert_exporter": "python",
   "pygments_lexer": "ipython3",
   "version": "3.6.5"
  }
 },
 "nbformat": 4,
 "nbformat_minor": 2
}
